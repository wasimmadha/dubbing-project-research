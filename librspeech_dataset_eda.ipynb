{
  "nbformat": 4,
  "nbformat_minor": 0,
  "metadata": {
    "colab": {
      "provenance": [],
      "mount_file_id": "19aRtqWStMYtYt5GOEzfsynT364KArD_r",
      "authorship_tag": "ABX9TyMQciW4tezg/JShWaDhpsz8",
      "include_colab_link": true
    },
    "kernelspec": {
      "name": "python3",
      "display_name": "Python 3"
    },
    "language_info": {
      "name": "python"
    }
  },
  "cells": [
    {
      "cell_type": "markdown",
      "metadata": {
        "id": "view-in-github",
        "colab_type": "text"
      },
      "source": [
        "<a href=\"https://colab.research.google.com/github/wasimmadha/dubbing-project-research/blob/main/librspeech_dataset_eda.ipynb\" target=\"_parent\"><img src=\"https://colab.research.google.com/assets/colab-badge.svg\" alt=\"Open In Colab\"/></a>"
      ]
    },
    {
      "cell_type": "code",
      "execution_count": 7,
      "metadata": {
        "id": "JBs_EAB-B3Oe"
      },
      "outputs": [],
      "source": [
        "!tar -xzf '/content/drive/MyDrive/Dubbing Project/libspeech/dev-clean.tar.gz' -C /content/"
      ]
    },
    {
      "cell_type": "code",
      "source": [
        "!tar -xzf '/content/drive/MyDrive/Dubbing Project/libspeech/train-clean-100.tar.gz' -C /content/"
      ],
      "metadata": {
        "id": "9kTwYOqqE26p"
      },
      "execution_count": 8,
      "outputs": []
    },
    {
      "cell_type": "code",
      "source": [
        "import os\n",
        "\n",
        "output_dict = {}\n",
        "main_folder_path = '/content/LibriSpeech/train-clean-100'\n",
        "\n",
        "# for main_speaker_dir in os.listdir()"
      ],
      "metadata": {
        "id": "wohzP6mPFs7x"
      },
      "execution_count": null,
      "outputs": []
    }
  ]
}