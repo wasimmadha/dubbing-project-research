{
 "cells": [
  {
   "cell_type": "code",
   "execution_count": 3,
   "id": "2f246f9c-8519-493d-9480-9f31e4215f2a",
   "metadata": {},
   "outputs": [],
   "source": [
    "import pandas as pd"
   ]
  },
  {
   "cell_type": "code",
   "execution_count": 4,
   "id": "1eac3087-cf0e-4755-b4d6-0284b2ddfcbd",
   "metadata": {},
   "outputs": [],
   "source": [
    "type = 'train'"
   ]
  },
  {
   "cell_type": "code",
   "execution_count": 5,
   "id": "ce845770-c736-47c7-a539-344247c359c0",
   "metadata": {},
   "outputs": [
    {
     "data": {
      "text/plain": [
       "(52825, 52825)"
      ]
     },
     "execution_count": 5,
     "metadata": {},
     "output_type": "execute_result"
    }
   ],
   "source": [
    "# Using readlines to get the data from file\n",
    "text_file = open(f'data/{type}/transcripts/text', 'r')\n",
    "text_lines = text_file.readlines()\n",
    "\n",
    "sentences = []\n",
    "chunk_names = []\n",
    "\n",
    "## get sentence and chunk name by splitting\n",
    "for i in range(len(text_lines)):\n",
    "    line = text_lines[i].strip()\n",
    "    line = line.split(' ')\n",
    "    chunk_name = line[0]\n",
    "    sentence = line[1:]\n",
    "    sentence = ' '.join(sentence)\n",
    "\n",
    "    chunk_names.append(chunk_name)\n",
    "    sentences.append(sentence)\n",
    "    \n",
    "len(chunk_names), len(sentences)"
   ]
  },
  {
   "cell_type": "code",
   "execution_count": 6,
   "id": "67eead5b-fad6-475c-ab90-b58080858573",
   "metadata": {},
   "outputs": [
    {
     "data": {
      "text/plain": [
       "(52825, 52825)"
      ]
     },
     "execution_count": 6,
     "metadata": {},
     "output_type": "execute_result"
    }
   ],
   "source": [
    "# Using readlines()\n",
    "segments = open(f'data/{type}/transcripts/segments', 'r')\n",
    "segments_lines = segments.readlines()\n",
    "\n",
    "segments_start = []\n",
    "segments_end = []\n",
    "file_names = []\n",
    "\n",
    "count = 0\n",
    "## get segments and file name by splitting\n",
    "for i in range(len(segments_lines)):\n",
    "    line = segments_lines[i].strip()\n",
    "    line = line.split(' ')\n",
    "    chunk_name = line[0]\n",
    "    file_name = line[1]\n",
    "    segment_start = line[2]\n",
    "    segment_end = line[3]\n",
    "\n",
    "    segments_start.append(segment_start)\n",
    "    segments_end.append(segment_end)\n",
    "\n",
    "    file_names.append(file_name)\n",
    "\n",
    "len(segments_end), len(file_names)"
   ]
  },
  {
   "cell_type": "code",
   "execution_count": 7,
   "id": "689d281d-db22-440a-8b1c-535bcb327325",
   "metadata": {},
   "outputs": [],
   "source": [
    "## Saving data\n",
    "values = {\n",
    "    'segments_start': segments_start, 'segments_end':segments_end, 'sentence':sentences, 'chunk_name':chunk_names, 'parent_name':file_names\n",
    "}\n",
    "df = pd.DataFrame(values) ## columns = audio_file_path, segment_size, sentence, chunk_name, parent_name\n",
    "\n",
    "df.to_csv(f'{type}.csv', index=False)"
   ]
  },
  {
   "cell_type": "code",
   "execution_count": 8,
   "id": "896ae24a-0e5e-4cd0-80fe-52668385bb77",
   "metadata": {},
   "outputs": [
    {
     "data": {
      "text/html": [
       "<div>\n",
       "<style scoped>\n",
       "    .dataframe tbody tr th:only-of-type {\n",
       "        vertical-align: middle;\n",
       "    }\n",
       "\n",
       "    .dataframe tbody tr th {\n",
       "        vertical-align: top;\n",
       "    }\n",
       "\n",
       "    .dataframe thead th {\n",
       "        text-align: right;\n",
       "    }\n",
       "</style>\n",
       "<table border=\"1\" class=\"dataframe\">\n",
       "  <thead>\n",
       "    <tr style=\"text-align: right;\">\n",
       "      <th></th>\n",
       "      <th>segments_start</th>\n",
       "      <th>segments_end</th>\n",
       "      <th>sentence</th>\n",
       "      <th>chunk_name</th>\n",
       "      <th>parent_name</th>\n",
       "    </tr>\n",
       "  </thead>\n",
       "  <tbody>\n",
       "    <tr>\n",
       "      <th>0</th>\n",
       "      <td>0.0</td>\n",
       "      <td>9.0</td>\n",
       "      <td>दोस्तों bash में nested और multilevel if state...</td>\n",
       "      <td>100051_GigsEKRBMhvNwolC_0000</td>\n",
       "      <td>GigsEKRBMhvNwolC</td>\n",
       "    </tr>\n",
       "    <tr>\n",
       "      <th>1</th>\n",
       "      <td>9.0</td>\n",
       "      <td>12.0</td>\n",
       "      <td>इस tutorial में हम निम्न के बारे में सीखेंगे</td>\n",
       "      <td>100051_GigsEKRBMhvNwolC_0001</td>\n",
       "      <td>GigsEKRBMhvNwolC</td>\n",
       "    </tr>\n",
       "    <tr>\n",
       "      <th>2</th>\n",
       "      <td>12.0</td>\n",
       "      <td>14.0</td>\n",
       "      <td>nested ifelse और</td>\n",
       "      <td>100051_GigsEKRBMhvNwolC_0002</td>\n",
       "      <td>GigsEKRBMhvNwolC</td>\n",
       "    </tr>\n",
       "    <tr>\n",
       "      <th>3</th>\n",
       "      <td>14.0</td>\n",
       "      <td>17.0</td>\n",
       "      <td>multilevel ifelse statement</td>\n",
       "      <td>100051_GigsEKRBMhvNwolC_0003</td>\n",
       "      <td>GigsEKRBMhvNwolC</td>\n",
       "    </tr>\n",
       "    <tr>\n",
       "      <th>4</th>\n",
       "      <td>17.0</td>\n",
       "      <td>22.0</td>\n",
       "      <td>हम यह कुछ उदाहरण उपयोग करके करेंगे</td>\n",
       "      <td>100051_GigsEKRBMhvNwolC_0004</td>\n",
       "      <td>GigsEKRBMhvNwolC</td>\n",
       "    </tr>\n",
       "  </tbody>\n",
       "</table>\n",
       "</div>"
      ],
      "text/plain": [
       "  segments_start segments_end   \n",
       "0            0.0          9.0  \\\n",
       "1            9.0         12.0   \n",
       "2           12.0         14.0   \n",
       "3           14.0         17.0   \n",
       "4           17.0         22.0   \n",
       "\n",
       "                                            sentence   \n",
       "0  दोस्तों bash में nested और multilevel if state...  \\\n",
       "1       इस tutorial में हम निम्न के बारे में सीखेंगे   \n",
       "2                                   nested ifelse और   \n",
       "3                        multilevel ifelse statement   \n",
       "4                 हम यह कुछ उदाहरण उपयोग करके करेंगे   \n",
       "\n",
       "                     chunk_name       parent_name  \n",
       "0  100051_GigsEKRBMhvNwolC_0000  GigsEKRBMhvNwolC  \n",
       "1  100051_GigsEKRBMhvNwolC_0001  GigsEKRBMhvNwolC  \n",
       "2  100051_GigsEKRBMhvNwolC_0002  GigsEKRBMhvNwolC  \n",
       "3  100051_GigsEKRBMhvNwolC_0003  GigsEKRBMhvNwolC  \n",
       "4  100051_GigsEKRBMhvNwolC_0004  GigsEKRBMhvNwolC  "
      ]
     },
     "execution_count": 8,
     "metadata": {},
     "output_type": "execute_result"
    }
   ],
   "source": [
    "df.head()"
   ]
  },
  {
   "cell_type": "code",
   "execution_count": null,
   "id": "bf5befae-b9e9-467f-bad6-a766d8dd8160",
   "metadata": {},
   "outputs": [],
   "source": []
  },
  {
   "cell_type": "code",
   "execution_count": null,
   "id": "53b78224-a629-4619-84bc-19067d61d773",
   "metadata": {},
   "outputs": [],
   "source": []
  },
  {
   "cell_type": "code",
   "execution_count": null,
   "id": "f5df5755-ea91-42ae-9c40-277d9c6f9c8f",
   "metadata": {},
   "outputs": [],
   "source": []
  }
 ],
 "metadata": {
  "kernelspec": {
   "display_name": "Python 3 (ipykernel)",
   "language": "python",
   "name": "python3"
  },
  "language_info": {
   "codemirror_mode": {
    "name": "ipython",
    "version": 3
   },
   "file_extension": ".py",
   "mimetype": "text/x-python",
   "name": "python",
   "nbconvert_exporter": "python",
   "pygments_lexer": "ipython3",
   "version": "3.10.11"
  }
 },
 "nbformat": 4,
 "nbformat_minor": 5
}
