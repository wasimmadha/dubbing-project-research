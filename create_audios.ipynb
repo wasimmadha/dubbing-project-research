{
 "cells": [
  {
   "cell_type": "code",
   "execution_count": 13,
   "id": "704c4bcc-2a46-467b-8646-61765ab804a0",
   "metadata": {},
   "outputs": [
    {
     "name": "stdout",
     "output_type": "stream",
     "text": [
      "Requirement already satisfied: soundfile in /opt/conda/lib/python3.10/site-packages (0.12.1)\n",
      "Requirement already satisfied: cffi>=1.0 in /opt/conda/lib/python3.10/site-packages (from soundfile) (1.15.1)\n",
      "Requirement already satisfied: pycparser in /opt/conda/lib/python3.10/site-packages (from cffi>=1.0->soundfile) (2.21)\n",
      "\u001b[33mWARNING: Running pip as the 'root' user can result in broken permissions and conflicting behaviour with the system package manager. It is recommended to use a virtual environment instead: https://pip.pypa.io/warnings/venv\u001b[0m\u001b[33m\n",
      "\u001b[0m"
     ]
    }
   ],
   "source": [
    "!pip install soundfile"
   ]
  },
  {
   "cell_type": "code",
   "execution_count": 21,
   "id": "93d3034c-6cd9-4514-94de-f803fb515904",
   "metadata": {},
   "outputs": [],
   "source": [
    "import pandas as pd\n",
    "from pathlib import Path\n",
    "import soundfile as sf\n",
    "import os\n",
    "from tqdm.auto import tqdm"
   ]
  },
  {
   "cell_type": "code",
   "execution_count": 22,
   "id": "d6d0a473-db78-45d5-9007-a05e26ce1805",
   "metadata": {},
   "outputs": [],
   "source": [
    "type = 'test'\n",
    "unique_videos_to_include = 10"
   ]
  },
  {
   "cell_type": "code",
   "execution_count": 23,
   "id": "11d8e7e7-2a28-49c3-8bcd-3be0ad6428da",
   "metadata": {},
   "outputs": [],
   "source": [
    "df = pd.read_csv(f'{type}.csv')\n",
    "total_unique_videos = df['parent_name'].unique()\n",
    "\n",
    "if len(total_unique_videos) > unique_videos_to_include:\n",
    "    df = df[df['parent_name'].isin(total_unique_videos[:unique_videos_to_include])]"
   ]
  },
  {
   "cell_type": "code",
   "execution_count": 24,
   "id": "ec093d4b-21e9-4b6e-ac32-efbd5ac79369",
   "metadata": {},
   "outputs": [
    {
     "data": {
      "text/html": [
       "<div>\n",
       "<style scoped>\n",
       "    .dataframe tbody tr th:only-of-type {\n",
       "        vertical-align: middle;\n",
       "    }\n",
       "\n",
       "    .dataframe tbody tr th {\n",
       "        vertical-align: top;\n",
       "    }\n",
       "\n",
       "    .dataframe thead th {\n",
       "        text-align: right;\n",
       "    }\n",
       "</style>\n",
       "<table border=\"1\" class=\"dataframe\">\n",
       "  <thead>\n",
       "    <tr style=\"text-align: right;\">\n",
       "      <th></th>\n",
       "      <th>segments_start</th>\n",
       "      <th>segments_end</th>\n",
       "      <th>sentence</th>\n",
       "      <th>chunk_name</th>\n",
       "      <th>parent_name</th>\n",
       "      <th>paths</th>\n",
       "    </tr>\n",
       "  </thead>\n",
       "  <tbody>\n",
       "    <tr>\n",
       "      <th>0</th>\n",
       "      <td>0.0</td>\n",
       "      <td>8.0</td>\n",
       "      <td>लिबर ऑफिस impress में एक प्रस्तुति document बन...</td>\n",
       "      <td>103085_w5Jyq3XMbb3WwiKQ_0000</td>\n",
       "      <td>w5Jyq3XMbb3WwiKQ</td>\n",
       "      <td>data/test_segments/103085_w5Jyq3XMbb3WwiKQ_000...</td>\n",
       "    </tr>\n",
       "    <tr>\n",
       "      <th>1</th>\n",
       "      <td>8.0</td>\n",
       "      <td>21.0</td>\n",
       "      <td>इस tutorial में हम impress window के भागों के ...</td>\n",
       "      <td>103085_w5Jyq3XMbb3WwiKQ_0001</td>\n",
       "      <td>w5Jyq3XMbb3WwiKQ</td>\n",
       "      <td>data/test_segments/103085_w5Jyq3XMbb3WwiKQ_000...</td>\n",
       "    </tr>\n",
       "    <tr>\n",
       "      <th>2</th>\n",
       "      <td>21.0</td>\n",
       "      <td>29.0</td>\n",
       "      <td>यहाँ हम अपने ऑपरेटिंग सिस्टम के रूप में gnu/li...</td>\n",
       "      <td>103085_w5Jyq3XMbb3WwiKQ_0002</td>\n",
       "      <td>w5Jyq3XMbb3WwiKQ</td>\n",
       "      <td>data/test_segments/103085_w5Jyq3XMbb3WwiKQ_000...</td>\n",
       "    </tr>\n",
       "    <tr>\n",
       "      <th>3</th>\n",
       "      <td>29.0</td>\n",
       "      <td>35.0</td>\n",
       "      <td>चलिए अपनी प्रस्तुति प्रेजैटेशन sample impress ...</td>\n",
       "      <td>103085_w5Jyq3XMbb3WwiKQ_0003</td>\n",
       "      <td>w5Jyq3XMbb3WwiKQ</td>\n",
       "      <td>data/test_segments/103085_w5Jyq3XMbb3WwiKQ_000...</td>\n",
       "    </tr>\n",
       "    <tr>\n",
       "      <th>4</th>\n",
       "      <td>35.0</td>\n",
       "      <td>39.0</td>\n",
       "      <td>चलिए देखते हैं कि screen पर क्या क्या है</td>\n",
       "      <td>103085_w5Jyq3XMbb3WwiKQ_0004</td>\n",
       "      <td>w5Jyq3XMbb3WwiKQ</td>\n",
       "      <td>data/test_segments/103085_w5Jyq3XMbb3WwiKQ_000...</td>\n",
       "    </tr>\n",
       "  </tbody>\n",
       "</table>\n",
       "</div>"
      ],
      "text/plain": [
       "   segments_start  segments_end   \n",
       "0             0.0           8.0  \\\n",
       "1             8.0          21.0   \n",
       "2            21.0          29.0   \n",
       "3            29.0          35.0   \n",
       "4            35.0          39.0   \n",
       "\n",
       "                                            sentence   \n",
       "0  लिबर ऑफिस impress में एक प्रस्तुति document बन...  \\\n",
       "1  इस tutorial में हम impress window के भागों के ...   \n",
       "2  यहाँ हम अपने ऑपरेटिंग सिस्टम के रूप में gnu/li...   \n",
       "3  चलिए अपनी प्रस्तुति प्रेजैटेशन sample impress ...   \n",
       "4           चलिए देखते हैं कि screen पर क्या क्या है   \n",
       "\n",
       "                     chunk_name       parent_name   \n",
       "0  103085_w5Jyq3XMbb3WwiKQ_0000  w5Jyq3XMbb3WwiKQ  \\\n",
       "1  103085_w5Jyq3XMbb3WwiKQ_0001  w5Jyq3XMbb3WwiKQ   \n",
       "2  103085_w5Jyq3XMbb3WwiKQ_0002  w5Jyq3XMbb3WwiKQ   \n",
       "3  103085_w5Jyq3XMbb3WwiKQ_0003  w5Jyq3XMbb3WwiKQ   \n",
       "4  103085_w5Jyq3XMbb3WwiKQ_0004  w5Jyq3XMbb3WwiKQ   \n",
       "\n",
       "                                               paths  \n",
       "0  data/test_segments/103085_w5Jyq3XMbb3WwiKQ_000...  \n",
       "1  data/test_segments/103085_w5Jyq3XMbb3WwiKQ_000...  \n",
       "2  data/test_segments/103085_w5Jyq3XMbb3WwiKQ_000...  \n",
       "3  data/test_segments/103085_w5Jyq3XMbb3WwiKQ_000...  \n",
       "4  data/test_segments/103085_w5Jyq3XMbb3WwiKQ_000...  "
      ]
     },
     "execution_count": 24,
     "metadata": {},
     "output_type": "execute_result"
    }
   ],
   "source": [
    "df.head()"
   ]
  },
  {
   "cell_type": "code",
   "execution_count": 25,
   "id": "3c7fb016-9b43-4e9a-9c86-54c0beb853f2",
   "metadata": {},
   "outputs": [
    {
     "data": {
      "text/plain": [
       "(869, 6)"
      ]
     },
     "execution_count": 25,
     "metadata": {},
     "output_type": "execute_result"
    }
   ],
   "source": [
    "df.shape"
   ]
  },
  {
   "cell_type": "code",
   "execution_count": 26,
   "id": "ee0e661a-1392-4b58-bece-b86519bcf410",
   "metadata": {},
   "outputs": [
    {
     "data": {
      "application/vnd.jupyter.widget-view+json": {
       "model_id": "9788a232ba464d218e8570fef8fae794",
       "version_major": 2,
       "version_minor": 0
      },
      "text/plain": [
       "0it [00:00, ?it/s]"
      ]
     },
     "metadata": {},
     "output_type": "display_data"
    }
   ],
   "source": [
    "audios_file_path = Path(f'data/{type}')\n",
    "output_directory = f'data/{type}_segments'\n",
    "\n",
    "os.makedirs(output_directory, exist_ok=True)\n",
    "records = 0\n",
    "paths = []\n",
    "\n",
    "for i, file in tqdm(enumerate(df['parent_name'].unique())):\n",
    "\n",
    "    file_records = df[df['parent_name'] == file]\n",
    "    segments_start = file_records['segments_start'].values\n",
    "    segments_end = file_records['segments_end'].values\n",
    "    chunk_names = file_records['chunk_name'].values\n",
    "\n",
    "    audio_segments = []\n",
    "    # Read the WAV file\n",
    "    audio, sample_rate = sf.read(audios_file_path/f'{file}.wav')\n",
    "    # Cut audio into segments\n",
    "    for i, (start_time, end_time, chunk_name) in enumerate(zip(segments_start, segments_end, chunk_names)):\n",
    "        # print(start_time, end_time)\n",
    "        start_frame = int(start_time * sample_rate)\n",
    "        end_frame = int(end_time * sample_rate)\n",
    "        segment = audio[start_frame:end_frame]\n",
    "        segment_filepath = os.path.join(output_directory, f\"{chunk_name}.wav\")\n",
    "        # Save the segment as a WAV file\n",
    "        sf.write(segment_filepath, segment, sample_rate)\n",
    "        paths.append(str(segment_filepath))\n",
    "        audio_segments.append(segment)\n",
    "    records += len(audio_segments)    "
   ]
  },
  {
   "cell_type": "code",
   "execution_count": 27,
   "id": "2b77d3cc-2f8d-4f9b-b9ee-2e9cbe10cb0b",
   "metadata": {},
   "outputs": [
    {
     "data": {
      "text/plain": [
       "869"
      ]
     },
     "execution_count": 27,
     "metadata": {},
     "output_type": "execute_result"
    }
   ],
   "source": [
    "records"
   ]
  },
  {
   "cell_type": "code",
   "execution_count": 28,
   "id": "cd3f2d90-aec7-4688-9bbe-d4a2423b6ea2",
   "metadata": {},
   "outputs": [],
   "source": [
    "df['paths'] = paths"
   ]
  },
  {
   "cell_type": "code",
   "execution_count": 29,
   "id": "1138c9b1-7c3c-4e41-9a80-328171dadc5e",
   "metadata": {},
   "outputs": [],
   "source": [
    "df.to_csv(f'{type}.csv', index=False)"
   ]
  },
  {
   "cell_type": "code",
   "execution_count": 30,
   "id": "d20ed94a-41b0-462a-bf12-9bf37c3d8d2a",
   "metadata": {},
   "outputs": [
    {
     "data": {
      "text/plain": [
       "Index(['segments_start', 'segments_end', 'sentence', 'chunk_name',\n",
       "       'parent_name', 'paths'],\n",
       "      dtype='object')"
      ]
     },
     "execution_count": 30,
     "metadata": {},
     "output_type": "execute_result"
    }
   ],
   "source": [
    "df.columns"
   ]
  },
  {
   "cell_type": "code",
   "execution_count": null,
   "id": "def96d03-7313-4042-8e79-7d1e15fc28e0",
   "metadata": {},
   "outputs": [],
   "source": []
  }
 ],
 "metadata": {
  "kernelspec": {
   "display_name": "Python 3 (ipykernel)",
   "language": "python",
   "name": "python3"
  },
  "language_info": {
   "codemirror_mode": {
    "name": "ipython",
    "version": 3
   },
   "file_extension": ".py",
   "mimetype": "text/x-python",
   "name": "python",
   "nbconvert_exporter": "python",
   "pygments_lexer": "ipython3",
   "version": "3.10.11"
  }
 },
 "nbformat": 4,
 "nbformat_minor": 5
}
