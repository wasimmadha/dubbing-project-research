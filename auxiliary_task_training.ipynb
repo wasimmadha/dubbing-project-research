{
  "nbformat": 4,
  "nbformat_minor": 0,
  "metadata": {
    "colab": {
      "provenance": [],
      "mount_file_id": "1oSlNe1TfykdLvTCYZLujZDOOM83cBvsw",
      "authorship_tag": "ABX9TyML1pxD6Nq7fM8OrJGzuPzk",
      "include_colab_link": true
    },
    "kernelspec": {
      "name": "python3",
      "display_name": "Python 3"
    },
    "language_info": {
      "name": "python"
    }
  },
  "cells": [
    {
      "cell_type": "markdown",
      "metadata": {
        "id": "view-in-github",
        "colab_type": "text"
      },
      "source": [
        "<a href=\"https://colab.research.google.com/github/wasimmadha/dubbing-project-research/blob/main/auxiliary_task_training.ipynb\" target=\"_parent\"><img src=\"https://colab.research.google.com/assets/colab-badge.svg\" alt=\"Open In Colab\"/></a>"
      ]
    },
    {
      "cell_type": "code",
      "execution_count": 2,
      "metadata": {
        "id": "IQ21N94Z05f4"
      },
      "outputs": [],
      "source": [
        "## Imports\n",
        "\n",
        "import torch\n",
        "import numpy as np\n",
        "from scipy.signal import get_window\n",
        "import librosa.util as librosa_util\n",
        "import random\n",
        "import torch.utils.data\n",
        "from torch.utils.data import DataLoader\n",
        "import os\n",
        "import matplotlib.pyplot as plt\n",
        "from math import sqrt\n",
        "import torch\n",
        "from torch.autograd import Variable\n",
        "from torch import nn\n",
        "from torch.nn import functional as F\n",
        "\n",
        "import numpy as np\n",
        "from scipy.io.wavfile import read\n",
        "\n",
        "import matplotlib\n",
        "matplotlib.use(\"Agg\")\n",
        "import matplotlib.pylab as plt\n",
        "import numpy as np\n",
        "import json\n",
        "\n",
        "import random\n",
        "from torch.utils.tensorboard import SummaryWriter\n",
        "\n",
        "\n",
        "import torch.distributed as dist\n",
        "from torch.nn.modules import Module\n",
        "from torch.autograd import Variable\n",
        "\n",
        "\n",
        "import numpy as np\n",
        "import torch.nn.functional as F\n",
        "from torch.autograd import Variable\n",
        "from scipy.signal import get_window\n",
        "from librosa.util import pad_center, tiny\n",
        "\n",
        "from librosa.filters import mel as librosa_mel_fn\n",
        "\n",
        "%matplotlib inline"
      ]
    },
    {
      "cell_type": "markdown",
      "source": [
        "### Dataset"
      ],
      "metadata": {
        "id": "st3RpVqf7JzX"
      }
    },
    {
      "cell_type": "code",
      "source": [
        "def read_json(file_path):\n",
        "  with open(file_path, 'r') as file:\n",
        "    file_content = json.load(file)\n",
        "  return file_content"
      ],
      "metadata": {
        "id": "2jAkFk6g8HVQ"
      },
      "execution_count": 5,
      "outputs": []
    },
    {
      "cell_type": "code",
      "source": [
        "train_data = read_json('/content/drive/MyDrive/Dubbing Project/libspeech/train_output_dict.json')\n",
        "valid_data = read_json('/content/drive/MyDrive/Dubbing Project/libspeech/valid_output_dict.json')\n",
        "reverse_phoneme = read_json('/content/drive/MyDrive/Dubbing Project/libspeech/reverse_phoneme_dict.json')\n",
        "phoneme = read_json('/content/drive/MyDrive/Dubbing Project/libspeech/phoneme_dict.json')"
      ],
      "metadata": {
        "id": "szfPsiJR6_BI"
      },
      "execution_count": 23,
      "outputs": []
    },
    {
      "cell_type": "code",
      "source": [
        "len(train_data.keys()), len(valid_data.keys())"
      ],
      "metadata": {
        "colab": {
          "base_uri": "https://localhost:8080/"
        },
        "id": "aEOTSNoW76ti",
        "outputId": "127de2e0-d2b4-48d2-e817-143afe4987ad"
      },
      "execution_count": 24,
      "outputs": [
        {
          "output_type": "execute_result",
          "data": {
            "text/plain": [
              "(28539, 2703)"
            ]
          },
          "metadata": {},
          "execution_count": 24
        }
      ]
    },
    {
      "cell_type": "code",
      "source": [
        "list(train_data.keys())[0], train_data[list(train_data.keys())[0]].keys()"
      ],
      "metadata": {
        "colab": {
          "base_uri": "https://localhost:8080/"
        },
        "id": "2F-56Nvm9tEO",
        "outputId": "ed330c4d-88e0-4e07-bc3d-f5fa05dc00e9"
      },
      "execution_count": 35,
      "outputs": [
        {
          "output_type": "execute_result",
          "data": {
            "text/plain": [
              "('5678-43302-0000', dict_keys(['file_path', 'text', 'phonemes']))"
            ]
          },
          "metadata": {},
          "execution_count": 35
        }
      ]
    },
    {
      "cell_type": "code",
      "source": [
        "list(valid_data.keys())[0], valid_data[list(valid_data.keys())[0]].keys()"
      ],
      "metadata": {
        "colab": {
          "base_uri": "https://localhost:8080/"
        },
        "id": "1-YPS22X9wD9",
        "outputId": "c214c763-afad-4245-f47b-061b92cdf2b6"
      },
      "execution_count": 36,
      "outputs": [
        {
          "output_type": "execute_result",
          "data": {
            "text/plain": [
              "('6313-66125-0000', dict_keys(['file_path', 'text', 'phonemes']))"
            ]
          },
          "metadata": {},
          "execution_count": 36
        }
      ]
    },
    {
      "cell_type": "code",
      "source": [
        "print(\"Total Phonemes in reverse: \", len(reverse_phoneme))"
      ],
      "metadata": {
        "colab": {
          "base_uri": "https://localhost:8080/"
        },
        "id": "dyVREL0b8Srg",
        "outputId": "7dc14eb2-72f3-4212-a87b-2a970e3d96f7"
      },
      "execution_count": 25,
      "outputs": [
        {
          "output_type": "stream",
          "name": "stdout",
          "text": [
            "Total Phonemes in reverse:  72\n"
          ]
        }
      ]
    },
    {
      "cell_type": "code",
      "source": [
        "print(\"Total Phonemes: \", len(phoneme))"
      ],
      "metadata": {
        "colab": {
          "base_uri": "https://localhost:8080/"
        },
        "id": "ZumhJHiB8lWg",
        "outputId": "1d828274-43dd-4f19-d0ea-67ff6530b1b4"
      },
      "execution_count": 26,
      "outputs": [
        {
          "output_type": "stream",
          "name": "stdout",
          "text": [
            "Total Phonemes:  72\n"
          ]
        }
      ]
    },
    {
      "cell_type": "code",
      "source": [
        "## Adding Stop Token\n",
        "phoneme['<end/>'] = 72\n",
        "reverse_phoneme[72] = '<end/>'\n",
        "\n",
        "phoneme['<start/>'] = 73\n",
        "reverse_phoneme[73] = '<start/>'"
      ],
      "metadata": {
        "id": "awVYC9p28oCP"
      },
      "execution_count": 27,
      "outputs": []
    },
    {
      "cell_type": "code",
      "source": [
        "print(\"Total Phonemes after adding reverse: \", len(reverse_phoneme))\n",
        "print(\"Total Phonemes after adding: \", len(phoneme))"
      ],
      "metadata": {
        "colab": {
          "base_uri": "https://localhost:8080/"
        },
        "id": "fDCZn_3O833e",
        "outputId": "7b3158e6-b993-41f5-b818-17bb86760d4c"
      },
      "execution_count": 28,
      "outputs": [
        {
          "output_type": "stream",
          "name": "stdout",
          "text": [
            "Total Phonemes after adding reverse:  74\n",
            "Total Phonemes after adding:  74\n"
          ]
        }
      ]
    },
    {
      "cell_type": "code",
      "source": [],
      "metadata": {
        "id": "5kuyVHFb9ieA"
      },
      "execution_count": null,
      "outputs": []
    }
  ]
}