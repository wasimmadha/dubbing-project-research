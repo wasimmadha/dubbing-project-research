{
 "cells": [
  {
   "cell_type": "code",
   "execution_count": 2,
   "id": "626f4c6f-c314-4b7b-bad5-59ea456ad787",
   "metadata": {},
   "outputs": [
    {
     "name": "stdout",
     "output_type": "stream",
     "text": [
      "Collecting deep-translator\n",
      "  Using cached deep_translator-1.11.0-py3-none-any.whl (37 kB)\n",
      "Requirement already satisfied: beautifulsoup4<5.0.0,>=4.9.1 in /opt/conda/lib/python3.10/site-packages (from deep-translator) (4.12.2)\n",
      "Requirement already satisfied: requests<3.0.0,>=2.23.0 in /opt/conda/lib/python3.10/site-packages (from deep-translator) (2.29.0)\n",
      "Requirement already satisfied: soupsieve>1.2 in /opt/conda/lib/python3.10/site-packages (from beautifulsoup4<5.0.0,>=4.9.1->deep-translator) (2.4)\n",
      "Requirement already satisfied: certifi>=2017.4.17 in /opt/conda/lib/python3.10/site-packages (from requests<3.0.0,>=2.23.0->deep-translator) (2023.5.7)\n",
      "Requirement already satisfied: urllib3<1.27,>=1.21.1 in /opt/conda/lib/python3.10/site-packages (from requests<3.0.0,>=2.23.0->deep-translator) (1.26.15)\n",
      "Requirement already satisfied: charset-normalizer<4,>=2 in /opt/conda/lib/python3.10/site-packages (from requests<3.0.0,>=2.23.0->deep-translator) (2.0.4)\n",
      "Requirement already satisfied: idna<4,>=2.5 in /opt/conda/lib/python3.10/site-packages (from requests<3.0.0,>=2.23.0->deep-translator) (3.4)\n",
      "Installing collected packages: deep-translator\n",
      "Successfully installed deep-translator-1.11.0\n",
      "\u001b[33mWARNING: Running pip as the 'root' user can result in broken permissions and conflicting behaviour with the system package manager. It is recommended to use a virtual environment instead: https://pip.pypa.io/warnings/venv\u001b[0m\u001b[33m\n",
      "\u001b[0m"
     ]
    }
   ],
   "source": [
    "!pip install -U deep-translator"
   ]
  },
  {
   "cell_type": "code",
   "execution_count": 14,
   "id": "c1a71aae-ee88-4060-9acd-88909bc7d9e3",
   "metadata": {},
   "outputs": [],
   "source": [
    "from deep_translator import GoogleTranslator\n",
    "from tqdm.auto import tqdm\n",
    "import pandas as pd\n",
    "\n",
    "type = 'train'\n",
    "unique_videos_to_include = 150"
   ]
  },
  {
   "cell_type": "code",
   "execution_count": 15,
   "id": "0e5d1b33-8ded-4360-bcdc-93094885a9d4",
   "metadata": {},
   "outputs": [],
   "source": [
    "df = pd.read_csv(f'{type}.csv')\n",
    "total_unique_videos = df['parent_name'].unique()\n",
    "\n",
    "if len(total_unique_videos) > unique_videos_to_include:\n",
    "    df = df[df['parent_name'].isin(total_unique_videos[:unique_videos_to_include])]"
   ]
  },
  {
   "cell_type": "code",
   "execution_count": 16,
   "id": "c14d7493-7719-4f8e-b3c8-4371fee29013",
   "metadata": {},
   "outputs": [
    {
     "data": {
      "text/plain": [
       "(14989, 5)"
      ]
     },
     "execution_count": 16,
     "metadata": {},
     "output_type": "execute_result"
    }
   ],
   "source": [
    "df.shape"
   ]
  },
  {
   "cell_type": "code",
   "execution_count": 18,
   "id": "284a0a6e-ef18-464e-9a41-27d4183cf932",
   "metadata": {},
   "outputs": [
    {
     "data": {
      "application/vnd.jupyter.widget-view+json": {
       "model_id": "8ef885200c094aec898161abd61533c6",
       "version_major": 2,
       "version_minor": 0
      },
      "text/plain": [
       "0it [00:00, ?it/s]"
      ]
     },
     "metadata": {},
     "output_type": "display_data"
    },
    {
     "name": "stdout",
     "output_type": "stream",
     "text": [
      "0 "
     ]
    },
    {
     "name": "stderr",
     "output_type": "stream",
     "text": [
      "\n",
      "KeyboardInterrupt\n",
      "\n"
     ]
    }
   ],
   "source": [
    "translator = GoogleTranslator()\n",
    "translations = []\n",
    "\n",
    "for i, row in tqdm(df.iterrows()):\n",
    "    if i % 1000 == 0:\n",
    "        print(i, end=' ')\n",
    "    text = GoogleTranslator(source='auto', target='en').translate(row[\"sentence\"]) \n",
    "    translations.append(text)"
   ]
  },
  {
   "cell_type": "code",
   "execution_count": 60,
   "id": "95e911a8-1bc4-4335-b523-d703c3f45672",
   "metadata": {},
   "outputs": [],
   "source": [
    "df['translations'] = translations"
   ]
  },
  {
   "cell_type": "code",
   "execution_count": 61,
   "id": "05f38ef0-2e22-42dd-8bf2-39e3e636209c",
   "metadata": {},
   "outputs": [],
   "source": [
    "df.to_csv(f\"{type}_translated.csv\")"
   ]
  },
  {
   "cell_type": "code",
   "execution_count": null,
   "id": "9f34b1a7-c40c-42ce-b83a-21df4d4b574a",
   "metadata": {},
   "outputs": [],
   "source": []
  }
 ],
 "metadata": {
  "kernelspec": {
   "display_name": "Python 3 (ipykernel)",
   "language": "python",
   "name": "python3"
  },
  "language_info": {
   "codemirror_mode": {
    "name": "ipython",
    "version": 3
   },
   "file_extension": ".py",
   "mimetype": "text/x-python",
   "name": "python",
   "nbconvert_exporter": "python",
   "pygments_lexer": "ipython3",
   "version": "3.10.11"
  }
 },
 "nbformat": 4,
 "nbformat_minor": 5
}
